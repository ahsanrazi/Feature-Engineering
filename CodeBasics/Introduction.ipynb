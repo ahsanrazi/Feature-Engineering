{
 "cells": [
  {
   "cell_type": "markdown",
   "metadata": {},
   "source": [
    "# What is Feature Engineering"
   ]
  },
  {
   "cell_type": "code",
   "execution_count": null,
   "metadata": {},
   "outputs": [],
   "source": [
    "# Feature Engineering is the process of extracting useful features from raw data using Math, Statistics and\n",
    "# Domian Knowledge.\n",
    "\n",
    "# Thses process is manual there are also automated ways of detecting the features."
   ]
  },
  {
   "cell_type": "code",
   "execution_count": null,
   "metadata": {},
   "outputs": [],
   "source": [
    "# Feature Engineering is a very important Process in the field of Data Analytics and Machine Learning.\n",
    "# Feature Engineering is something that helps us in Data Cleaning."
   ]
  },
  {
   "cell_type": "code",
   "execution_count": null,
   "metadata": {},
   "outputs": [],
   "source": [
    "# For Example: We are studing the home pices and we have the data that has columns like (Square_Feet, price)\n",
    "# to do the analysis on this we can make a new column like (price per square feet) to get the feel of the \n",
    "# incoming data-set from different sources and this data have many errors and by creating the new column we are trying\n",
    "# to analyze that the data have any errors and with the new column either by using the Domain knowledge we can detect \n",
    "# errors in the data, we can also use visualization to detect errors, We can also use mathematics and statistics\n",
    "# to detect the errors like Outlier detection.\n",
    "\n",
    "\n",
    "# Outlier Detection\n",
    "# Handling Missing values\n",
    "# One hot encoding\n",
    "# Thses are the few examples of Feature Engineering"
   ]
  },
  {
   "cell_type": "markdown",
   "metadata": {},
   "source": [
    "# CampusX"
   ]
  },
  {
   "cell_type": "code",
   "execution_count": 1,
   "metadata": {},
   "outputs": [],
   "source": [
    "# Feature Engineering is the process of using Domain Knowledge, Maths and Statistics to extract features from\n",
    "# raw data. These feature can be used to improve the performance of machine learning algorithms."
   ]
  },
  {
   "cell_type": "code",
   "execution_count": 2,
   "metadata": {},
   "outputs": [],
   "source": [
    "# Feature Engineering Includes:\n",
    "\n",
    "# Feature Transformation (Handling Missing values, Handling categorical features, Outlier detection, Feature Scaling)\n",
    "# Feature Construction (Manually creating new features)\n",
    "# Feature Selection (using only useful features)\n",
    "# Feature Extraction (Programatically create features from existing features)"
   ]
  }
 ],
 "metadata": {
  "kernelspec": {
   "display_name": "base",
   "language": "python",
   "name": "python3"
  },
  "language_info": {
   "codemirror_mode": {
    "name": "ipython",
    "version": 3
   },
   "file_extension": ".py",
   "mimetype": "text/x-python",
   "name": "python",
   "nbconvert_exporter": "python",
   "pygments_lexer": "ipython3",
   "version": "3.12.4"
  }
 },
 "nbformat": 4,
 "nbformat_minor": 2
}
